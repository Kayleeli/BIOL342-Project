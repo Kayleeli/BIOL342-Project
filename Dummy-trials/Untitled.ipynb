{
 "cells": [
  {
   "cell_type": "code",
   "execution_count": 4,
   "id": "ca414519-f24d-45ba-be6d-8b782dbef9c1",
   "metadata": {},
   "outputs": [
    {
     "name": "stderr",
     "output_type": "stream",
     "text": [
      "Installing package into ‘/home/jupyter/R/x86_64-pc-linux-gnu-library/4.1’\n",
      "(as ‘lib’ is unspecified)\n",
      "\n"
     ]
    }
   ],
   "source": [
    "library(tidyverse)\n",
    "install.packages(\"patchwork\")\n",
    "library(patchwork)"
   ]
  },
  {
   "cell_type": "code",
   "execution_count": 5,
   "id": "76dcd827-5c15-4718-b847-d83db8c88522",
   "metadata": {},
   "outputs": [],
   "source": [
    "library(patchwork)"
   ]
  },
  {
   "cell_type": "code",
   "execution_count": 7,
   "id": "ef14e3af-09dd-4fd4-a84a-959390aa6b82",
   "metadata": {},
   "outputs": [
    {
     "data": {
      "text/html": [
       "<table class=\"dataframe\">\n",
       "<caption>A data.frame: 6 × 5</caption>\n",
       "<thead>\n",
       "\t<tr><th></th><th scope=col>Sepal.Length</th><th scope=col>Sepal.Width</th><th scope=col>Petal.Length</th><th scope=col>Petal.Width</th><th scope=col>Species</th></tr>\n",
       "\t<tr><th></th><th scope=col>&lt;dbl&gt;</th><th scope=col>&lt;dbl&gt;</th><th scope=col>&lt;dbl&gt;</th><th scope=col>&lt;dbl&gt;</th><th scope=col>&lt;fct&gt;</th></tr>\n",
       "</thead>\n",
       "<tbody>\n",
       "\t<tr><th scope=row>1</th><td>5.1</td><td>3.5</td><td>1.4</td><td>0.2</td><td>setosa</td></tr>\n",
       "\t<tr><th scope=row>2</th><td>4.9</td><td>3.0</td><td>1.4</td><td>0.2</td><td>setosa</td></tr>\n",
       "\t<tr><th scope=row>3</th><td>4.7</td><td>3.2</td><td>1.3</td><td>0.2</td><td>setosa</td></tr>\n",
       "\t<tr><th scope=row>4</th><td>4.6</td><td>3.1</td><td>1.5</td><td>0.2</td><td>setosa</td></tr>\n",
       "\t<tr><th scope=row>5</th><td>5.0</td><td>3.6</td><td>1.4</td><td>0.2</td><td>setosa</td></tr>\n",
       "\t<tr><th scope=row>6</th><td>5.4</td><td>3.9</td><td>1.7</td><td>0.4</td><td>setosa</td></tr>\n",
       "</tbody>\n",
       "</table>\n"
      ],
      "text/latex": [
       "A data.frame: 6 × 5\n",
       "\\begin{tabular}{r|lllll}\n",
       "  & Sepal.Length & Sepal.Width & Petal.Length & Petal.Width & Species\\\\\n",
       "  & <dbl> & <dbl> & <dbl> & <dbl> & <fct>\\\\\n",
       "\\hline\n",
       "\t1 & 5.1 & 3.5 & 1.4 & 0.2 & setosa\\\\\n",
       "\t2 & 4.9 & 3.0 & 1.4 & 0.2 & setosa\\\\\n",
       "\t3 & 4.7 & 3.2 & 1.3 & 0.2 & setosa\\\\\n",
       "\t4 & 4.6 & 3.1 & 1.5 & 0.2 & setosa\\\\\n",
       "\t5 & 5.0 & 3.6 & 1.4 & 0.2 & setosa\\\\\n",
       "\t6 & 5.4 & 3.9 & 1.7 & 0.4 & setosa\\\\\n",
       "\\end{tabular}\n"
      ],
      "text/markdown": [
       "\n",
       "A data.frame: 6 × 5\n",
       "\n",
       "| <!--/--> | Sepal.Length &lt;dbl&gt; | Sepal.Width &lt;dbl&gt; | Petal.Length &lt;dbl&gt; | Petal.Width &lt;dbl&gt; | Species &lt;fct&gt; |\n",
       "|---|---|---|---|---|---|\n",
       "| 1 | 5.1 | 3.5 | 1.4 | 0.2 | setosa |\n",
       "| 2 | 4.9 | 3.0 | 1.4 | 0.2 | setosa |\n",
       "| 3 | 4.7 | 3.2 | 1.3 | 0.2 | setosa |\n",
       "| 4 | 4.6 | 3.1 | 1.5 | 0.2 | setosa |\n",
       "| 5 | 5.0 | 3.6 | 1.4 | 0.2 | setosa |\n",
       "| 6 | 5.4 | 3.9 | 1.7 | 0.4 | setosa |\n",
       "\n"
      ],
      "text/plain": [
       "  Sepal.Length Sepal.Width Petal.Length Petal.Width Species\n",
       "1 5.1          3.5         1.4          0.2         setosa \n",
       "2 4.9          3.0         1.4          0.2         setosa \n",
       "3 4.7          3.2         1.3          0.2         setosa \n",
       "4 4.6          3.1         1.5          0.2         setosa \n",
       "5 5.0          3.6         1.4          0.2         setosa \n",
       "6 5.4          3.9         1.7          0.4         setosa "
      ]
     },
     "metadata": {},
     "output_type": "display_data"
    }
   ],
   "source": [
    "head(iris)"
   ]
  },
  {
   "cell_type": "code",
   "execution_count": 13,
   "id": "0651c5ce-1c1b-4a30-9647-f2869c98b6e1",
   "metadata": {},
   "outputs": [],
   "source": [
    "flower <- iris %>%\n",
    "mutate(Size = cut(Sepal.Length, breaks = 3, labels = c(\"small\", \"med\", \"large\"))) %>%\n",
    "select(Species, Size)"
   ]
  },
  {
   "cell_type": "code",
   "execution_count": 14,
   "id": "f1399186-a492-4a47-9984-86fa5c3c1788",
   "metadata": {},
   "outputs": [
    {
     "data": {
      "text/plain": [
       "            Size\n",
       "Species      small med large\n",
       "  setosa        47   3     0\n",
       "  versicolor    11  36     3\n",
       "  virginica      1  32    17"
      ]
     },
     "metadata": {},
     "output_type": "display_data"
    }
   ],
   "source": [
    "table(flower)"
   ]
  },
  {
   "cell_type": "code",
   "execution_count": 18,
   "id": "c603fb95-2478-4681-9e79-809d2bcb4be4",
   "metadata": {},
   "outputs": [
    {
     "data": {
      "text/plain": [
       "\n",
       "small   med large \n",
       "   59    71    20 "
      ]
     },
     "metadata": {},
     "output_type": "display_data"
    }
   ],
   "source": [
    "table(flower$Size)"
   ]
  },
  {
   "cell_type": "code",
   "execution_count": 19,
   "id": "c177c846-161a-49b5-85d0-14abc2c18cb4",
   "metadata": {},
   "outputs": [
    {
     "data": {
      "text/plain": [
       "\n",
       "\tPearson's Chi-squared test\n",
       "\n",
       "data:  .\n",
       "X-squared = 111.63, df = 4, p-value < 2.2e-16\n"
      ]
     },
     "metadata": {},
     "output_type": "display_data"
    }
   ],
   "source": [
    "flower %>%\n",
    "table() %>%\n",
    "chisq.test() "
   ]
  },
  {
   "cell_type": "code",
   "execution_count": 21,
   "id": "aff6a509-1fba-4869-bd01-8047c8b46054",
   "metadata": {},
   "outputs": [
    {
     "data": {
      "text/html": [
       "<table class=\"dataframe\">\n",
       "<caption>A matrix: 3 × 3 of type dbl</caption>\n",
       "<thead>\n",
       "\t<tr><th></th><th scope=col>small</th><th scope=col>med</th><th scope=col>large</th></tr>\n",
       "</thead>\n",
       "<tbody>\n",
       "\t<tr><th scope=row>setosa</th><td>19.66667</td><td>23.66667</td><td>6.666667</td></tr>\n",
       "\t<tr><th scope=row>versicolor</th><td>19.66667</td><td>23.66667</td><td>6.666667</td></tr>\n",
       "\t<tr><th scope=row>virginica</th><td>19.66667</td><td>23.66667</td><td>6.666667</td></tr>\n",
       "</tbody>\n",
       "</table>\n"
      ],
      "text/latex": [
       "A matrix: 3 × 3 of type dbl\n",
       "\\begin{tabular}{r|lll}\n",
       "  & small & med & large\\\\\n",
       "\\hline\n",
       "\tsetosa & 19.66667 & 23.66667 & 6.666667\\\\\n",
       "\tversicolor & 19.66667 & 23.66667 & 6.666667\\\\\n",
       "\tvirginica & 19.66667 & 23.66667 & 6.666667\\\\\n",
       "\\end{tabular}\n"
      ],
      "text/markdown": [
       "\n",
       "A matrix: 3 × 3 of type dbl\n",
       "\n",
       "| <!--/--> | small | med | large |\n",
       "|---|---|---|---|\n",
       "| setosa | 19.66667 | 23.66667 | 6.666667 |\n",
       "| versicolor | 19.66667 | 23.66667 | 6.666667 |\n",
       "| virginica | 19.66667 | 23.66667 | 6.666667 |\n",
       "\n"
      ],
      "text/plain": [
       "            Size\n",
       "Species      small    med      large   \n",
       "  setosa     19.66667 23.66667 6.666667\n",
       "  versicolor 19.66667 23.66667 6.666667\n",
       "  virginica  19.66667 23.66667 6.666667"
      ]
     },
     "metadata": {},
     "output_type": "display_data"
    }
   ],
   "source": [
    "# tables of the expected values\n",
    "flower %>%\n",
    "table() %>%\n",
    "chisq.test() %>%\n",
    ".$expected"
   ]
  },
  {
   "cell_type": "code",
   "execution_count": null,
   "id": "6078491f-f2f9-4ac3-a583-2eaea6495e47",
   "metadata": {},
   "outputs": [],
   "source": []
  }
 ],
 "metadata": {
  "kernelspec": {
   "display_name": "R",
   "language": "R",
   "name": "ir"
  },
  "language_info": {
   "codemirror_mode": "r",
   "file_extension": ".r",
   "mimetype": "text/x-r-source",
   "name": "R",
   "pygments_lexer": "r",
   "version": "4.1.3"
  }
 },
 "nbformat": 4,
 "nbformat_minor": 5
}
