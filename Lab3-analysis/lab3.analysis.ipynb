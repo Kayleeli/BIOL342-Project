{
 "cells": [
  {
   "cell_type": "code",
   "execution_count": 13,
   "id": "d7b43183-e59e-428b-a658-dc0b1e42974b",
   "metadata": {},
   "outputs": [],
   "source": [
    "set.seed(999)\n",
    "options(repr.plot.width = 15, repr.plot.height = 10, warn = -1) \n",
    "\n",
    "library(tidyverse)\n",
    "library(repr)"
   ]
  },
  {
   "cell_type": "code",
   "execution_count": 14,
   "id": "c1938e2f-4f58-4424-93e0-a0f4e7ab6b4e",
   "metadata": {},
   "outputs": [
    {
     "data": {
      "text/html": [
       "<table class=\"dataframe\">\n",
       "<caption>A tibble: 2 × 3</caption>\n",
       "<thead>\n",
       "\t<tr><th scope=col>Site</th><th scope=col>Soil.pH</th><th scope=col>Water.pH</th></tr>\n",
       "\t<tr><th scope=col>&lt;chr&gt;</th><th scope=col>&lt;dbl&gt;</th><th scope=col>&lt;dbl&gt;</th></tr>\n",
       "</thead>\n",
       "<tbody>\n",
       "\t<tr><td>upper</td><td>6.5</td><td>6</td></tr>\n",
       "\t<tr><td>upper</td><td>5.5</td><td>7</td></tr>\n",
       "</tbody>\n",
       "</table>\n"
      ],
      "text/latex": [
       "A tibble: 2 × 3\n",
       "\\begin{tabular}{lll}\n",
       " Site & Soil.pH & Water.pH\\\\\n",
       " <chr> & <dbl> & <dbl>\\\\\n",
       "\\hline\n",
       "\t upper & 6.5 & 6\\\\\n",
       "\t upper & 5.5 & 7\\\\\n",
       "\\end{tabular}\n"
      ],
      "text/markdown": [
       "\n",
       "A tibble: 2 × 3\n",
       "\n",
       "| Site &lt;chr&gt; | Soil.pH &lt;dbl&gt; | Water.pH &lt;dbl&gt; |\n",
       "|---|---|---|\n",
       "| upper | 6.5 | 6 |\n",
       "| upper | 5.5 | 7 |\n",
       "\n"
      ],
      "text/plain": [
       "  Site  Soil.pH Water.pH\n",
       "1 upper 6.5     6       \n",
       "2 upper 5.5     7       "
      ]
     },
     "metadata": {},
     "output_type": "display_data"
    }
   ],
   "source": [
    "# read dataset + only selecting assigned variable (pH)\n",
    "\n",
    "data <- read_csv('https://raw.githubusercontent.com/Kayleeli/BIOL342-Project/main/Data/Salish%20Creek%20Data%202022.csv', skip = 1, show_col_types = FALSE)\n",
    "colnames(data) <- make.names(colnames(data))\n",
    "ph_only <- data %>% select(Site, Soil.pH, Water.pH) \n",
    "\n",
    "head(ph_only, n = 2)"
   ]
  },
  {
   "cell_type": "code",
   "execution_count": 15,
   "id": "92d204b4-3c67-4150-ab7d-0ce260823f1c",
   "metadata": {},
   "outputs": [
    {
     "data": {
      "text/html": [
       "0"
      ],
      "text/latex": [
       "0"
      ],
      "text/markdown": [
       "0"
      ],
      "text/plain": [
       "[1] 0"
      ]
     },
     "metadata": {},
     "output_type": "display_data"
    }
   ],
   "source": [
    "# check if there is any NA values\n",
    "sum(is.na(ph_only))"
   ]
  },
  {
   "cell_type": "code",
   "execution_count": 16,
   "id": "444281f2-1bf7-4b15-8295-5b1304f337cc",
   "metadata": {},
   "outputs": [
    {
     "data": {
      "text/html": [
       "<table class=\"dataframe\">\n",
       "<caption>A tibble: 2 × 2</caption>\n",
       "<thead>\n",
       "\t<tr><th scope=col>Site</th><th scope=col>n</th></tr>\n",
       "\t<tr><th scope=col>&lt;chr&gt;</th><th scope=col>&lt;int&gt;</th></tr>\n",
       "</thead>\n",
       "<tbody>\n",
       "\t<tr><td>lower</td><td>23</td></tr>\n",
       "\t<tr><td>upper</td><td>23</td></tr>\n",
       "</tbody>\n",
       "</table>\n"
      ],
      "text/latex": [
       "A tibble: 2 × 2\n",
       "\\begin{tabular}{ll}\n",
       " Site & n\\\\\n",
       " <chr> & <int>\\\\\n",
       "\\hline\n",
       "\t lower & 23\\\\\n",
       "\t upper & 23\\\\\n",
       "\\end{tabular}\n"
      ],
      "text/markdown": [
       "\n",
       "A tibble: 2 × 2\n",
       "\n",
       "| Site &lt;chr&gt; | n &lt;int&gt; |\n",
       "|---|---|\n",
       "| lower | 23 |\n",
       "| upper | 23 |\n",
       "\n"
      ],
      "text/plain": [
       "  Site  n \n",
       "1 lower 23\n",
       "2 upper 23"
      ]
     },
     "metadata": {},
     "output_type": "display_data"
    }
   ],
   "source": [
    "# sample size\n",
    "sample_size <- ph_only %>%\n",
    "    group_by(Site) %>%\n",
    "    summarize(n = n())\n",
    "\n",
    "sample_size"
   ]
  },
  {
   "cell_type": "code",
   "execution_count": 17,
   "id": "b77227ef-580d-4db9-a6f6-de3b861f3935",
   "metadata": {},
   "outputs": [],
   "source": [
    "# setting up for unpaired t-test\n",
    "lower_soilpH <- \n",
    "    ph_only %>%\n",
    "    filter(Site == \"lower\") %>%\n",
    "    select(Soil.pH)\n",
    "\n",
    "upper_soilpH <- \n",
    "    ph_only %>%\n",
    "    filter(Site == \"upper\") %>%\n",
    "    select(Soil.pH)\n",
    "\n",
    "lower_waterpH <- \n",
    "    ph_only %>%\n",
    "    filter(Site == \"lower\") %>%\n",
    "    select(Water.pH)\n",
    "\n",
    "upper_waterpH <- \n",
    "    ph_only %>%\n",
    "    filter(Site == \"upper\") %>%\n",
    "    select(Water.pH)"
   ]
  },
  {
   "cell_type": "code",
   "execution_count": 18,
   "id": "0e55af3c-b988-48e1-99cc-8917efc449b4",
   "metadata": {},
   "outputs": [
    {
     "data": {
      "text/html": [
       "<table class=\"dataframe\">\n",
       "<caption>A tibble: 1 × 10</caption>\n",
       "<thead>\n",
       "\t<tr><th scope=col>estimate</th><th scope=col>estimate1</th><th scope=col>estimate2</th><th scope=col>statistic</th><th scope=col>p.value</th><th scope=col>parameter</th><th scope=col>conf.low</th><th scope=col>conf.high</th><th scope=col>method</th><th scope=col>alternative</th></tr>\n",
       "\t<tr><th scope=col>&lt;dbl&gt;</th><th scope=col>&lt;dbl&gt;</th><th scope=col>&lt;dbl&gt;</th><th scope=col>&lt;dbl&gt;</th><th scope=col>&lt;dbl&gt;</th><th scope=col>&lt;dbl&gt;</th><th scope=col>&lt;dbl&gt;</th><th scope=col>&lt;dbl&gt;</th><th scope=col>&lt;chr&gt;</th><th scope=col>&lt;chr&gt;</th></tr>\n",
       "</thead>\n",
       "<tbody>\n",
       "\t<tr><td>0.5369565</td><td>7.06087</td><td>6.523913</td><td>3.973734</td><td>0.0002591918</td><td>44</td><td>0.2646271</td><td>0.8092859</td><td>Two Sample t-test</td><td>two.sided</td></tr>\n",
       "</tbody>\n",
       "</table>\n"
      ],
      "text/latex": [
       "A tibble: 1 × 10\n",
       "\\begin{tabular}{llllllllll}\n",
       " estimate & estimate1 & estimate2 & statistic & p.value & parameter & conf.low & conf.high & method & alternative\\\\\n",
       " <dbl> & <dbl> & <dbl> & <dbl> & <dbl> & <dbl> & <dbl> & <dbl> & <chr> & <chr>\\\\\n",
       "\\hline\n",
       "\t 0.5369565 & 7.06087 & 6.523913 & 3.973734 & 0.0002591918 & 44 & 0.2646271 & 0.8092859 & Two Sample t-test & two.sided\\\\\n",
       "\\end{tabular}\n"
      ],
      "text/markdown": [
       "\n",
       "A tibble: 1 × 10\n",
       "\n",
       "| estimate &lt;dbl&gt; | estimate1 &lt;dbl&gt; | estimate2 &lt;dbl&gt; | statistic &lt;dbl&gt; | p.value &lt;dbl&gt; | parameter &lt;dbl&gt; | conf.low &lt;dbl&gt; | conf.high &lt;dbl&gt; | method &lt;chr&gt; | alternative &lt;chr&gt; |\n",
       "|---|---|---|---|---|---|---|---|---|---|\n",
       "| 0.5369565 | 7.06087 | 6.523913 | 3.973734 | 0.0002591918 | 44 | 0.2646271 | 0.8092859 | Two Sample t-test | two.sided |\n",
       "\n"
      ],
      "text/plain": [
       "  estimate  estimate1 estimate2 statistic p.value      parameter conf.low \n",
       "1 0.5369565 7.06087   6.523913  3.973734  0.0002591918 44        0.2646271\n",
       "  conf.high method            alternative\n",
       "1 0.8092859 Two Sample t-test two.sided  "
      ]
     },
     "metadata": {},
     "output_type": "display_data"
    },
    {
     "data": {
      "text/plain": [
       "\n",
       "\tTwo Sample t-test\n",
       "\n",
       "data:  lower_soilpH and upper_soilpH\n",
       "t = 3.9737, df = 44, p-value = 0.0002592\n",
       "alternative hypothesis: true difference in means is not equal to 0\n",
       "95 percent confidence interval:\n",
       " 0.2646271 0.8092859\n",
       "sample estimates:\n",
       "mean of x mean of y \n",
       " 7.060870  6.523913 \n"
      ]
     },
     "metadata": {},
     "output_type": "display_data"
    }
   ],
   "source": [
    "# unpaired t-test soil_pH (also called independent sample t-test)\n",
    "t.test_hypo_test_soil_pH <- \n",
    "    broom::tidy(\n",
    "        t.test(x = lower_soilpH,\n",
    "               y = upper_soilpH, \n",
    "               alternative = \"two.sided\", var.equal = TRUE))\n",
    "\n",
    "\n",
    "hypo_test_soil_pH_stat <- t.test(lower_soilpH, upper_soilpH, var.equal = TRUE)\n",
    "\n",
    "t.test_hypo_test_soil_pH\n",
    "hypo_test_soil_pH_stat"
   ]
  },
  {
   "cell_type": "code",
   "execution_count": 19,
   "id": "635e03c4-effc-4db9-9733-a9a9155d6f74",
   "metadata": {},
   "outputs": [
    {
     "data": {
      "text/html": [
       "<table class=\"dataframe\">\n",
       "<caption>A tibble: 1 × 10</caption>\n",
       "<thead>\n",
       "\t<tr><th scope=col>estimate</th><th scope=col>estimate1</th><th scope=col>estimate2</th><th scope=col>statistic</th><th scope=col>p.value</th><th scope=col>parameter</th><th scope=col>conf.low</th><th scope=col>conf.high</th><th scope=col>method</th><th scope=col>alternative</th></tr>\n",
       "\t<tr><th scope=col>&lt;dbl&gt;</th><th scope=col>&lt;dbl&gt;</th><th scope=col>&lt;dbl&gt;</th><th scope=col>&lt;dbl&gt;</th><th scope=col>&lt;dbl&gt;</th><th scope=col>&lt;dbl&gt;</th><th scope=col>&lt;dbl&gt;</th><th scope=col>&lt;dbl&gt;</th><th scope=col>&lt;chr&gt;</th><th scope=col>&lt;chr&gt;</th></tr>\n",
       "</thead>\n",
       "<tbody>\n",
       "\t<tr><td>0.1343478</td><td>6.597826</td><td>6.463478</td><td>1.054115</td><td>0.2975843</td><td>44</td><td>-0.1225123</td><td>0.391208</td><td>Two Sample t-test</td><td>two.sided</td></tr>\n",
       "</tbody>\n",
       "</table>\n"
      ],
      "text/latex": [
       "A tibble: 1 × 10\n",
       "\\begin{tabular}{llllllllll}\n",
       " estimate & estimate1 & estimate2 & statistic & p.value & parameter & conf.low & conf.high & method & alternative\\\\\n",
       " <dbl> & <dbl> & <dbl> & <dbl> & <dbl> & <dbl> & <dbl> & <dbl> & <chr> & <chr>\\\\\n",
       "\\hline\n",
       "\t 0.1343478 & 6.597826 & 6.463478 & 1.054115 & 0.2975843 & 44 & -0.1225123 & 0.391208 & Two Sample t-test & two.sided\\\\\n",
       "\\end{tabular}\n"
      ],
      "text/markdown": [
       "\n",
       "A tibble: 1 × 10\n",
       "\n",
       "| estimate &lt;dbl&gt; | estimate1 &lt;dbl&gt; | estimate2 &lt;dbl&gt; | statistic &lt;dbl&gt; | p.value &lt;dbl&gt; | parameter &lt;dbl&gt; | conf.low &lt;dbl&gt; | conf.high &lt;dbl&gt; | method &lt;chr&gt; | alternative &lt;chr&gt; |\n",
       "|---|---|---|---|---|---|---|---|---|---|\n",
       "| 0.1343478 | 6.597826 | 6.463478 | 1.054115 | 0.2975843 | 44 | -0.1225123 | 0.391208 | Two Sample t-test | two.sided |\n",
       "\n"
      ],
      "text/plain": [
       "  estimate  estimate1 estimate2 statistic p.value   parameter conf.low  \n",
       "1 0.1343478 6.597826  6.463478  1.054115  0.2975843 44        -0.1225123\n",
       "  conf.high method            alternative\n",
       "1 0.391208  Two Sample t-test two.sided  "
      ]
     },
     "metadata": {},
     "output_type": "display_data"
    },
    {
     "data": {
      "text/plain": [
       "\n",
       "\tTwo Sample t-test\n",
       "\n",
       "data:  lower_waterpH and upper_waterpH\n",
       "t = 1.0541, df = 44, p-value = 0.2976\n",
       "alternative hypothesis: true difference in means is not equal to 0\n",
       "95 percent confidence interval:\n",
       " -0.1225123  0.3912080\n",
       "sample estimates:\n",
       "mean of x mean of y \n",
       " 6.597826  6.463478 \n"
      ]
     },
     "metadata": {},
     "output_type": "display_data"
    }
   ],
   "source": [
    "# unpaired t-test water_pH (also called independent sample t-test)\n",
    "\n",
    "t.test_hypo_test_water_pH <- \n",
    "    broom::tidy(\n",
    "        t.test(x = lower_waterpH,\n",
    "               y = upper_waterpH,\n",
    "               alternative = \"two.sided\", var.equal = TRUE))\n",
    "\n",
    "hypo_test_water_pH_stat <- t.test(lower_waterpH, upper_waterpH, var.equal = TRUE)\n",
    "\n",
    "t.test_hypo_test_water_pH\n",
    "hypo_test_water_pH_stat\n"
   ]
  },
  {
   "cell_type": "code",
   "execution_count": null,
   "id": "bd53ba99-54c4-4470-a1f4-703b295341aa",
   "metadata": {},
   "outputs": [],
   "source": []
  }
 ],
 "metadata": {
  "kernelspec": {
   "display_name": "R",
   "language": "R",
   "name": "ir"
  },
  "language_info": {
   "codemirror_mode": "r",
   "file_extension": ".r",
   "mimetype": "text/x-r-source",
   "name": "R",
   "pygments_lexer": "r",
   "version": "4.1.3"
  }
 },
 "nbformat": 4,
 "nbformat_minor": 5
}
